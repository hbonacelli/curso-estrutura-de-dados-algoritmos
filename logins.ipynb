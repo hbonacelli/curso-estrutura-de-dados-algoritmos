{
 "cells": [
  {
   "attachments": {},
   "cell_type": "markdown",
   "metadata": {},
   "source": [
    "VETORES NÃO ORDENADOS"
   ]
  },
  {
   "attachments": {},
   "cell_type": "markdown",
   "metadata": {},
   "source": [
    "TEORIA\n",
    "\n",
    "Controlar quais dados estão presentes na estrutura\n",
    "\n",
    "Ações:\n",
    "    Inserir dados\n",
    "    Pesquisa\n",
    "    Remover dados\n",
    "\n",
    "Inserir dados\n",
    "    [4]\n",
    "    [4,2]\n",
    "    [4,2,8]\n",
    "    [4,2,1,8]\n",
    "    [4,2,1,8,5]\n",
    "\n",
    "    Dado é inserido na primeira célula vaga do vetor\n",
    "    Big-O constante - O(1)\n",
    "\n",
    "Pesquisa\n",
    "    Percorre cada posição do vetor\n",
    "    [4,2,1,8,5]\n",
    "    - Melhor caso : 4\n",
    "    - Pior caso : 5 ou um número que não existe no vetor\n",
    "    - Em média metade dos itens devem ser analisados (N/2)\n",
    "    - Big-O linear - O(n)\n",
    "\n",
    "Remover dados\n",
    "    [4,2,1,8,5]\n",
    "    [4,2,8,5]\n",
    "    Valor na posição 2 não é apagado, ele é sobrescrito pelos valores nas posições seguintes do vetor\n",
    "    8 vai para posição 2, 5 vai para posição 3\n",
    "\n",
    "    Para excluir será feito:\n",
    "    - Pesquisa do elemento\n",
    "    - Mover os demais elementos\n",
    "    Big-O linear - O(n)\n",
    "\n",
    "Vetores com Duplicatas\n",
    "    Decidir se faz sentido na sua estrutura de dados ter dados duplicados\n",
    "    Se você permite, a ações de pesquisar e remover dados sempre percorerá todas as posições do vetor\n",
    "    Se você não permite, ao inserir dados o algoritmos irá percorrer todas as posições do vetor para verificar se é possível inserir o valor\n",
    "\n",
    "Existe um ponteiro indicando a posição com o último valor do vetor"
   ]
  },
  {
   "attachments": {},
   "cell_type": "markdown",
   "metadata": {},
   "source": [
    "IMPLEMENTAÇÃO"
   ]
  },
  {
   "cell_type": "code",
   "execution_count": 1,
   "metadata": {},
   "outputs": [],
   "source": [
    "import numpy as np"
   ]
  },
  {
   "cell_type": "code",
   "execution_count": 33,
   "metadata": {},
   "outputs": [],
   "source": [
    "class VetorNaoOrdenado:\n",
    "    def __init__(self, capacidade):\n",
    "        self.capacidade = capacidade\n",
    "        self.ultima_posicao = -1\n",
    "        self.valores = np.empty(self.capacidade, dtype=int)\n",
    "\n",
    "# O(n)\n",
    "    def imprime(self):\n",
    "        if self.ultima_posicao == -1:\n",
    "            print('O vetor está vazio')\n",
    "        else:\n",
    "            for i in range(self.ultima_posicao + 1):\n",
    "                print(i, ' - ', self.valores[i])\n",
    "\n",
    "# O(n)\n",
    "    def insere(self, valor):\n",
    "        if self.ultima_posicao == self.capacidade -1:\n",
    "            print('Capacidade máxima atingida')\n",
    "        else:\n",
    "            self.ultima_posicao += 1\n",
    "            self.valores[self.ultima_posicao] = valor\n",
    "\n",
    "# O(n)\n",
    "    #pesquisa linear\n",
    "    def pesquisar(self, valor):\n",
    "        for i in range(self.ultima_posicao + 1):\n",
    "            if valor == self.valores[i]:\n",
    "                return i\n",
    "        return -1\n",
    "\n",
    "# O(n)\n",
    "    def excluir(self, valor):\n",
    "        posicao = self.pesquisar(valor)\n",
    "        if posicao == -1:\n",
    "            return -1\n",
    "        else:\n",
    "            for i in range(posicao, self.ultima_posicao):\n",
    "                self.valores[i] = self.valores[i + 1]\n",
    "            self.ultima_posicao -= 1\n"
   ]
  },
  {
   "cell_type": "code",
   "execution_count": 34,
   "metadata": {},
   "outputs": [],
   "source": [
    "vetor = VetorNaoOrdenado(5)"
   ]
  },
  {
   "cell_type": "code",
   "execution_count": 10,
   "metadata": {},
   "outputs": [
    {
     "name": "stdout",
     "output_type": "stream",
     "text": [
      "0  -  11\n"
     ]
    }
   ],
   "source": [
    "vetor.imprime()"
   ]
  },
  {
   "cell_type": "code",
   "execution_count": 19,
   "metadata": {},
   "outputs": [],
   "source": [
    "vetor.insere(11)"
   ]
  },
  {
   "cell_type": "code",
   "execution_count": 35,
   "metadata": {},
   "outputs": [],
   "source": [
    "vetor.insere(3)\n",
    "vetor.insere(5)\n",
    "vetor.insere(8)\n",
    "vetor.insere(1)"
   ]
  },
  {
   "cell_type": "code",
   "execution_count": 27,
   "metadata": {},
   "outputs": [
    {
     "name": "stdout",
     "output_type": "stream",
     "text": [
      "0  -  3\n",
      "1  -  5\n",
      "2  -  8\n",
      "3  -  1\n",
      "4  -  2\n"
     ]
    }
   ],
   "source": [
    "vetor.imprime()"
   ]
  },
  {
   "cell_type": "code",
   "execution_count": 36,
   "metadata": {},
   "outputs": [],
   "source": [
    "vetor.insere(2)"
   ]
  },
  {
   "cell_type": "code",
   "execution_count": 31,
   "metadata": {},
   "outputs": [
    {
     "data": {
      "text/plain": [
       "2"
      ]
     },
     "execution_count": 31,
     "metadata": {},
     "output_type": "execute_result"
    }
   ],
   "source": [
    "vetor.pesquisar(8)"
   ]
  },
  {
   "cell_type": "code",
   "execution_count": 37,
   "metadata": {},
   "outputs": [
    {
     "data": {
      "text/plain": [
       "-1"
      ]
     },
     "execution_count": 37,
     "metadata": {},
     "output_type": "execute_result"
    }
   ],
   "source": [
    "vetor.pesquisar(9)"
   ]
  },
  {
   "cell_type": "code",
   "execution_count": 38,
   "metadata": {},
   "outputs": [
    {
     "name": "stdout",
     "output_type": "stream",
     "text": [
      "0  -  3\n",
      "1  -  5\n",
      "2  -  8\n",
      "3  -  1\n",
      "4  -  2\n"
     ]
    }
   ],
   "source": [
    "vetor.imprime()"
   ]
  },
  {
   "cell_type": "code",
   "execution_count": 39,
   "metadata": {},
   "outputs": [],
   "source": [
    "vetor.excluir(8)"
   ]
  },
  {
   "cell_type": "code",
   "execution_count": 40,
   "metadata": {},
   "outputs": [
    {
     "name": "stdout",
     "output_type": "stream",
     "text": [
      "0  -  3\n",
      "1  -  5\n",
      "2  -  1\n",
      "3  -  2\n"
     ]
    }
   ],
   "source": [
    "vetor.imprime()"
   ]
  },
  {
   "cell_type": "code",
   "execution_count": 41,
   "metadata": {},
   "outputs": [],
   "source": [
    "vetor.excluir(2)"
   ]
  },
  {
   "cell_type": "code",
   "execution_count": 42,
   "metadata": {},
   "outputs": [
    {
     "name": "stdout",
     "output_type": "stream",
     "text": [
      "0  -  3\n",
      "1  -  5\n",
      "2  -  1\n"
     ]
    }
   ],
   "source": [
    "vetor.imprime()"
   ]
  },
  {
   "cell_type": "code",
   "execution_count": 43,
   "metadata": {},
   "outputs": [],
   "source": [
    "vetor.excluir(3)"
   ]
  },
  {
   "cell_type": "code",
   "execution_count": 44,
   "metadata": {},
   "outputs": [
    {
     "name": "stdout",
     "output_type": "stream",
     "text": [
      "0  -  5\n",
      "1  -  1\n"
     ]
    }
   ],
   "source": [
    "vetor.imprime()"
   ]
  },
  {
   "cell_type": "code",
   "execution_count": 45,
   "metadata": {},
   "outputs": [
    {
     "name": "stdout",
     "output_type": "stream",
     "text": [
      "0  -  5\n",
      "1  -  1\n",
      "2  -  7\n",
      "3  -  9\n"
     ]
    }
   ],
   "source": [
    "vetor.insere(7)\n",
    "vetor.insere(9)\n",
    "vetor.imprime()"
   ]
  }
 ],
 "metadata": {
  "kernelspec": {
   "display_name": "Python 3",
   "language": "python",
   "name": "python3"
  },
  "language_info": {
   "codemirror_mode": {
    "name": "ipython",
    "version": 3
   },
   "file_extension": ".py",
   "mimetype": "text/x-python",
   "name": "python",
   "nbconvert_exporter": "python",
   "pygments_lexer": "ipython3",
   "version": "3.11.1"
  },
  "orig_nbformat": 4,
  "vscode": {
   "interpreter": {
    "hash": "42a868592ba07134d47affee5851d77b6addba56a85e670ef5540bfb619fb977"
   }
  }
 },
 "nbformat": 4,
 "nbformat_minor": 2
}
